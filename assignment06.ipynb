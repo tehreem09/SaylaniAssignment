{
 "cells": [
  {
   "cell_type": "code",
   "execution_count": 3,
   "metadata": {},
   "outputs": [
    {
     "name": "stdout",
     "output_type": "stream",
     "text": [
      "name: A8 \n",
      "model: 2019 \n",
      "color: Silver \n",
      "Max.Speed: 300 \n",
      "brand: Audi\n",
      "The current speed of A8 is 300m/s.\n",
      "\n",
      "name: Vezel \n",
      "model: 2018 \n",
      "color: Blue \n",
      "Max.Speed: 280 \n",
      "brand: Honda\n",
      "\n",
      "name: Fortuner \n",
      "model: 2018 \n",
      "color: Silver \n",
      "Max.Speed: 290 \n",
      "brand: Suzuki\n",
      "The current speed of Fortuner is 290m/s.\n",
      "\n",
      "name: i8 \n",
      "model: 2019 \n",
      "color: Black \n",
      "Max.Speed: 300 \n",
      "brand: BMW\n",
      "\n",
      "name: Mercedes-Benz S-Class \n",
      "model: 2018 \n",
      "color: White \n",
      "Max.Speed: 275 \n",
      "brand: Mercedes\n"
     ]
    }
   ],
   "source": [
    "# question05\n",
    "class Car:\n",
    "    def __init__(self,name, model, color, speed, brand):\n",
    "        self.name = name\n",
    "        self.model = model\n",
    "        self.color = color\n",
    "        self.speed = speed\n",
    "        self.brand = brand\n",
    "    \n",
    "    def carDetail(self):\n",
    "        print(\"name: {} \\nmodel: {} \\ncolor: {} \\nMax.Speed: {} \\nbrand: {}\".format(self.name,self.model,self.color,self.speed,self.brand))\n",
    "        \n",
    "    def stop(self):\n",
    "        self.speed = 0\n",
    "    \n",
    "    def currentSpeed(self):\n",
    "        print(\"The current speed of {} is {}m/s.\".format(self.name,self.speed))\n",
    "    \n",
    "\n",
    "obj = Car(\"A8\",2019,\"Silver\",300,\"Audi\")\n",
    "obj1 = Car(\"Vezel\",2018,\"Blue\",280,\"Honda\")\n",
    "obj2 = Car(\"Fortuner\",2018,\"Silver\",290,\"Suzuki\")\n",
    "obj3 = Car(\"i8\",2019,\"Black\",300,\"BMW\")\n",
    "obj4 = Car(\"Mercedes-Benz S-Class\",2018,\"White\",275,\"Mercedes\")\n",
    "\n",
    "obj.carDetail()\n",
    "obj.currentSpeed()\n",
    "print()\n",
    "obj1.carDetail()\n",
    "print()\n",
    "obj2.carDetail()\n",
    "obj2.currentSpeed()\n",
    "print()\n",
    "obj3.carDetail()\n",
    "print()\n",
    "obj4.carDetail()"
   ]
  },
  {
   "cell_type": "code",
   "execution_count": null,
   "metadata": {},
   "outputs": [],
   "source": []
  }
 ],
 "metadata": {
  "kernelspec": {
   "display_name": "Python 3",
   "language": "python",
   "name": "python3"
  },
  "language_info": {
   "codemirror_mode": {
    "name": "ipython",
    "version": 3
   },
   "file_extension": ".py",
   "mimetype": "text/x-python",
   "name": "python",
   "nbconvert_exporter": "python",
   "pygments_lexer": "ipython3",
   "version": "3.7.4"
  }
 },
 "nbformat": 4,
 "nbformat_minor": 2
}
