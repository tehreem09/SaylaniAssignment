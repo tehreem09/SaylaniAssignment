{
 "cells": [
  {
   "cell_type": "code",
   "execution_count": 1,
   "metadata": {},
   "outputs": [
    {
     "name": "stdout",
     "output_type": "stream",
     "text": [
      "initial dict:\n",
      " {'first_name': 'Ayesha', 'last_name': 'Khan', 'age': 20, 'city': 'Karachi'}\n",
      "\n",
      "qualification added:\n",
      " {'first_name': 'Ayesha', 'last_name': 'Khan', 'age': 20, 'city': 'Karachi', 'qualification': 'High Acedmic Level'}\n",
      "\n",
      "qualification deleted:\n",
      " {'first_name': 'Ayesha', 'last_name': 'Khan', 'age': 20, 'city': 'Karachi'}\n"
     ]
    }
   ],
   "source": [
    "# Question01\n",
    "info = {\"first_name\": \"Ayesha\", \"last_name\": \"Khan\", \"age\": 20, \"city\": \"Karachi\"}\n",
    "print(\"initial dict:\\n\",info)\n",
    "info[\"qualification\"] = \"High Acedmic Level\"\n",
    "print(\"\\nqualification added:\\n\",info)\n",
    "del info[\"qualification\"]\n",
    "print(\"\\nqualification deleted:\\n\",info)"
   ]
  },
  {
   "cell_type": "code",
   "execution_count": 2,
   "metadata": {},
   "outputs": [
    {
     "name": "stdout",
     "output_type": "stream",
     "text": [
      "City Name: Islamabad\n",
      "country: Pakistan\n",
      "population: 1.095 million\n",
      "fact: Islamabad was built in just four years.\n",
      "\n",
      "City Name: Ankara\n",
      "country: Turkey\n",
      "population: 5.024 million\n",
      "fact: The city is said to have existed during the Bronze Age and belonged to the Hattic civilization.\n",
      "\n",
      "City Name: Kuala Lumpur\n",
      "country: Malaysia\n",
      "population: 31.95 million\n",
      "fact: It is Malaysia’s largest city.\n",
      "\n"
     ]
    }
   ],
   "source": [
    "# Question02\n",
    "cities = {\n",
    "    \"Islamabad\":{\"country\": \"Pakistan\", \"population\": \"1.095 million\", \"fact\": \"Islamabad was built in just four years.\"},\n",
    "    \"Ankara\":{\"country\": \"Turkey\", \"population\": \"5.024 million\", \"fact\": \"The city is said to have existed during the Bronze Age and belonged to the Hattic civilization.\"},\n",
    "    \"Kuala Lumpur\":{\"country\": \"Malaysia\", \"population\": \"31.95 million\", \"fact\": \"It is Malaysia’s largest city.\"}\n",
    "}\n",
    "for key,value in cities.items():\n",
    "    print(\"City Name: \"+key)\n",
    "    for v_key,v_value in value.items():\n",
    "        print(v_key+\": \"+v_value)\n",
    "    print()"
   ]
  },
  {
   "cell_type": "code",
   "execution_count": 3,
   "metadata": {},
   "outputs": [
    {
     "name": "stdout",
     "output_type": "stream",
     "text": [
      "Enter 'q' to quit.\n",
      "Enter your age > 12\n",
      "Your ticket is of $10.\n",
      "\n",
      "Enter your age > 3\n",
      "Your ticket is of $10.\n",
      "\n",
      "Enter your age > 2\n",
      "Your ticket is free.\n",
      "\n",
      "Enter your age > 12.5\n",
      "Your ticket is of $15.\n",
      "\n",
      "Enter your age > rew\n",
      "Enter your age to check ticket price or 'q' to quit.\n",
      "Enter your age > q\n"
     ]
    }
   ],
   "source": [
    "# Question03\n",
    "print(\"Enter 'q' to quit.\")\n",
    "while True:\n",
    "    age = input(\"Enter your age > \")\n",
    "    try:\n",
    "        age = float(age)\n",
    "        if age < 3:print(\"Your ticket is free.\\n\")\n",
    "        elif 3 <= age <= 12:print(\"Your ticket is of $10.\\n\")\n",
    "        elif age > 12:print(\"Your ticket is of $15.\\n\")\n",
    "    except:\n",
    "        if age == 'q':break\n",
    "        else:print(\"Enter your age to check ticket price or 'q' to quit.\")"
   ]
  },
  {
   "cell_type": "code",
   "execution_count": 4,
   "metadata": {},
   "outputs": [
    {
     "name": "stdout",
     "output_type": "stream",
     "text": [
      "One of my favorite books is Alice in Wonderland.\n"
     ]
    }
   ],
   "source": [
    "# Question04\n",
    "def book(title):\n",
    "    print('One of my favorite books is '+title)\n",
    "book(\"Alice in Wonderland.\")"
   ]
  },
  {
   "cell_type": "code",
   "execution_count": 5,
   "metadata": {},
   "outputs": [
    {
     "name": "stdout",
     "output_type": "stream",
     "text": [
      "Enter your guess4\n",
      "Your number is too large.\n",
      "Enter your guess2\n",
      "Congratulations! You have won.\n",
      "\n",
      "Enter 'y' to play again. Press any other key to exist.y\n",
      "Enter your guess4\n",
      "Your number is too large.\n",
      "Enter your guess3\n",
      "Your number is too large.\n",
      "Enter your guess2\n",
      "Congratulations! You have won.\n",
      "\n",
      "Enter 'y' to play again. Press any other key to exist.y\n",
      "Enter your guess4\n",
      "Your number is too small.\n",
      "Enter your guess7\n",
      "Your number is too small.\n",
      "Enter your guess15\n",
      "Your number is too small.\n",
      "\n",
      "Correct number is  18\n",
      "\n",
      "Enter 'y' to play again. Press any other key to exist.t\n"
     ]
    }
   ],
   "source": [
    "# Queston05\n",
    "import random\n",
    "again = 'y'\n",
    "while again == \"y\":\n",
    "    random_number = random.randint(0,30)\n",
    "    count = 0\n",
    "    while(count != 3):\n",
    "        guess = int(input(\"Enter your guess\"))\n",
    "        if guess < random_number: print(\"Your number is too small.\")\n",
    "        elif guess > random_number: print(\"Your number is too large.\")\n",
    "        elif guess == random_number:\n",
    "            print(\"Congratulations! You have won.\")\n",
    "            break\n",
    "        count += 1\n",
    "    else: print(\"\\nCorrect number is \",random_number)\n",
    "    again = input(\"\\nEnter 'y' to play again. Press any other key to exist.\")"
   ]
  },
  {
   "cell_type": "code",
   "execution_count": null,
   "metadata": {},
   "outputs": [],
   "source": []
  },
  {
   "cell_type": "code",
   "execution_count": null,
   "metadata": {},
   "outputs": [],
   "source": []
  }
 ],
 "metadata": {
  "kernelspec": {
   "display_name": "Python 3",
   "language": "python",
   "name": "python3"
  },
  "language_info": {
   "codemirror_mode": {
    "name": "ipython",
    "version": 3
   },
   "file_extension": ".py",
   "mimetype": "text/x-python",
   "name": "python",
   "nbconvert_exporter": "python",
   "pygments_lexer": "ipython3",
   "version": "3.7.4"
  }
 },
 "nbformat": 4,
 "nbformat_minor": 2
}
