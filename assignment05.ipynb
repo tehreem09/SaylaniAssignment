{
 "cells": [
  {
   "cell_type": "code",
   "execution_count": 5,
   "metadata": {},
   "outputs": [
    {
     "name": "stdout",
     "output_type": "stream",
     "text": [
      "Enter non negative number to calculate factorial: 7\n",
      "factorial is  5040\n"
     ]
    }
   ],
   "source": [
    "# question01\n",
    "def factorial(num):\n",
    "    if num == 1: return num\n",
    "    else: return num*factorial(num-1)\n",
    "\n",
    "number = int(input(\"Enter non negative number to calculate factorial: \"))\n",
    "print(\"factorial is \",factorial(number))"
   ]
  },
  {
   "cell_type": "code",
   "execution_count": 8,
   "metadata": {},
   "outputs": [
    {
     "name": "stdout",
     "output_type": "stream",
     "text": [
      "Enter any sentence or paragraph here: By far the most effective way to prevent OS command injection vulnerabilities is to never call out to OS commands from application-layer code. In virtually every case, there are alternate ways of implementing the required functionality using safer platform APIs.\n",
      "Number of upper case letters 9.\n",
      "Number of lower case letter 210.\n"
     ]
    }
   ],
   "source": [
    "# question02\n",
    "def alpha_case_calculator(inputstring):\n",
    "    upper = 0\n",
    "    lower = 0\n",
    "    for i in inputstring:\n",
    "        if i.isupper(): upper += 1\n",
    "        elif i.islower(): lower += 1\n",
    "    return upper,lower\n",
    "    \n",
    "userinput = input(\"Enter any sentence or paragraph here: \")\n",
    "upper,lower = alpha_case_calculator(userinput)\n",
    "print(\"Number of upper case letters %i.\\nNumber of lower case letter %i.\"%(upper,lower))"
   ]
  },
  {
   "cell_type": "code",
   "execution_count": 12,
   "metadata": {},
   "outputs": [
    {
     "name": "stdout",
     "output_type": "stream",
     "text": [
      "Given list >  [1, 2, 3, 4, 5, 6, 7, 8, 9, 10, 11, 12]\n",
      "Even number list >  [2, 4, 6, 8, 10, 12]\n"
     ]
    }
   ],
   "source": [
    "# question03\n",
    "def even_number(num):\n",
    "    even_numbers_list = []\n",
    "    for i in num:\n",
    "        if i%2 == 0: even_numbers_list.append(i)\n",
    "    return even_numbers_list\n",
    "\n",
    "list1 = [1,2,3,4,5,6,7,8,9,10,11,12]\n",
    "print(\"Given list > \",list1)\n",
    "print(\"Even number list > \",even_number(list1))           "
   ]
  },
  {
   "cell_type": "code",
   "execution_count": 14,
   "metadata": {},
   "outputs": [
    {
     "name": "stdout",
     "output_type": "stream",
     "text": [
      "Enter first word: tehreem\n",
      "Enter secon word: Madam\n",
      "\n",
      "tehreem is not palindrome.\n",
      "Madam is a palindrome.\n"
     ]
    }
   ],
   "source": [
    "# question04\n",
    "def palindrome_checker(word):\n",
    "    count = -1\n",
    "    word = word.lower()\n",
    "    for i in range(len(word)//2):\n",
    "        if word[i] == word[count]:\n",
    "            count -= 1\n",
    "            continue\n",
    "        else: return False\n",
    "    return True\n",
    "\n",
    "word1 = input(\"Enter first word: \")\n",
    "word2 = input(\"Enter secon word: \")\n",
    "print()\n",
    "print(word1+\" is a palindrome.\") if palindrome_checker(word1) else print(word1+\" is not palindrome.\")\n",
    "print(word2+\" is a palindrome.\") if palindrome_checker(word2) else print(word2+\" is not palindrome.\")"
   ]
  },
  {
   "cell_type": "code",
   "execution_count": 16,
   "metadata": {},
   "outputs": [
    {
     "name": "stdout",
     "output_type": "stream",
     "text": [
      "Emter first number: 8\n",
      "Emter second number: 7\n",
      "\n",
      "8 is not a Prime Number.\n",
      "7  is Prime Number.\n"
     ]
    }
   ],
   "source": [
    "# question05\n",
    "def prime_number_checker(num):\n",
    "    for i in range(2,(num//2)+1):\n",
    "        if num%i == 0:\n",
    "            return False\n",
    "    return True\n",
    "\n",
    "num1 = int(input(\"Emter first number: \"))\n",
    "num2 = int(input(\"Emter second number: \"))\n",
    "print()\n",
    "print(num1,\" is Prime Number.\") if prime_number_checker(num1) else print(num1,\"is not a Prime Number.\")\n",
    "print(num2,\" is Prime Number.\") if prime_number_checker(num2) else print(num2,\"is not a Prime Number.\")"
   ]
  },
  {
   "cell_type": "code",
   "execution_count": 17,
   "metadata": {},
   "outputs": [
    {
     "name": "stdout",
     "output_type": "stream",
     "text": [
      "1 .  Apple\n",
      "2 .  Eggs\n",
      "3 .  Banana\n",
      "4 .  Milk\n"
     ]
    }
   ],
   "source": [
    "# question06\n",
    "def function(*items):\n",
    "    counter = 1\n",
    "    for i in items:\n",
    "        print(counter,\" \",i)\n",
    "        counter += 1\n",
    "        \n",
    "function('Apple', 'Eggs', 'Banana', 'Milk')"
   ]
  },
  {
   "cell_type": "code",
   "execution_count": null,
   "metadata": {},
   "outputs": [],
   "source": []
  }
 ],
 "metadata": {
  "kernelspec": {
   "display_name": "Python 3",
   "language": "python",
   "name": "python3"
  },
  "language_info": {
   "codemirror_mode": {
    "name": "ipython",
    "version": 3
   },
   "file_extension": ".py",
   "mimetype": "text/x-python",
   "name": "python",
   "nbconvert_exporter": "python",
   "pygments_lexer": "ipython3",
   "version": "3.7.4"
  }
 },
 "nbformat": 4,
 "nbformat_minor": 2
}
